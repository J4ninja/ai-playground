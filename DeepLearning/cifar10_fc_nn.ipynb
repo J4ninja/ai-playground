{
  "nbformat": 4,
  "nbformat_minor": 0,
  "metadata": {
    "colab": {
      "provenance": [],
      "gpuType": "T4",
      "generative_ai_disabled": true
    },
    "kernelspec": {
      "name": "python3",
      "display_name": "Python 3"
    },
    "language_info": {
      "name": "python"
    },
    "accelerator": "GPU"
  },
  "cells": [
    {
      "cell_type": "code",
      "execution_count": 1,
      "metadata": {
        "id": "CwHB97MhCiVN"
      },
      "outputs": [],
      "source": [
        "import torch\n",
        "import torch.nn as nn\n",
        "from torch.utils.data import Dataset, DataLoader\n",
        "from torch.optim import Adam\n",
        "\n",
        "import torchvision\n",
        "from torchvision.transforms import v2\n",
        "import torchvision.transforms.functional as F\n",
        "import matplotlib.pyplot as plt"
      ]
    },
    {
      "cell_type": "code",
      "source": [
        "# Use GPU if available\n",
        "device = torch.device(\"cuda\" if torch.cuda.is_available() else \"cpu\")\n",
        "torch.cuda.is_available()"
      ],
      "metadata": {
        "colab": {
          "base_uri": "https://localhost:8080/"
        },
        "id": "Mpt9GU9kC1eF",
        "outputId": "70d5e586-12fa-4058-df5e-a645709205d8"
      },
      "execution_count": 2,
      "outputs": [
        {
          "output_type": "execute_result",
          "data": {
            "text/plain": [
              "True"
            ]
          },
          "metadata": {},
          "execution_count": 2
        }
      ]
    },
    {
      "cell_type": "markdown",
      "source": [
        "## Train and Validation Sets\n",
        "\n",
        "Training Set: samples used to fit machine learning models under construction Validation set: different samples to evaluate trained ML models. Still possible to tune and control model at this stage Test Set: separate sample, unseen dataset to provide unbiased final evaluation of model fit"
      ],
      "metadata": {
        "id": "Zddby9NKFRKI"
      }
    },
    {
      "cell_type": "code",
      "source": [
        "# build train and validation set\n",
        "train_set = torchvision.datasets.CIFAR10(\"./data\", train=True, download=True)\n",
        "valid_set = torchvision.datasets.CIFAR10(\"./data\", train=False, download=True)"
      ],
      "metadata": {
        "id": "UUHjoIdOC_h-"
      },
      "execution_count": 3,
      "outputs": []
    },
    {
      "cell_type": "code",
      "source": [
        "x_0, y_0 = train_set[0]"
      ],
      "metadata": {
        "id": "0OBqLeEZFFbc"
      },
      "execution_count": 4,
      "outputs": []
    },
    {
      "cell_type": "code",
      "source": [
        "x_0"
      ],
      "metadata": {
        "colab": {
          "base_uri": "https://localhost:8080/",
          "height": 49
        },
        "id": "5EIQa0TMFJPi",
        "outputId": "fac1aeb3-02e7-42b3-b4ec-fa27a061b5eb"
      },
      "execution_count": 5,
      "outputs": [
        {
          "output_type": "execute_result",
          "data": {
            "text/plain": [
              "<PIL.Image.Image image mode=RGB size=32x32>"
            ],
            "image/png": "[encoded data removed]",
            "image/jpeg": "[encoded data removed]"
          },
          "metadata": {},
          "execution_count": 5
        }
      ]
    },
    {
      "cell_type": "code",
      "source": [
        "type(x_0)"
      ],
      "metadata": {
        "colab": {
          "base_uri": "https://localhost:8080/",
          "height": 187
        },
        "id": "q3c6Z_-pFJ_r",
        "outputId": "bd2167e0-f6a4-49b9-b60d-a59aff293b16"
      },
      "execution_count": 6,
      "outputs": [
        {
          "output_type": "execute_result",
          "data": {
            "text/plain": [
              "PIL.Image.Image"
            ],
            "text/html": [
              "<div style=\"max-width:800px; border: 1px solid var(--colab-border-color);\"><style>\n",
              "      pre.function-repr-contents {\n",
              "        overflow-x: auto;\n",
              "        padding: 8px 12px;\n",
              "        max-height: 500px;\n",
              "      }\n",
              "\n",
              "      pre.function-repr-contents.function-repr-contents-collapsed {\n",
              "        cursor: pointer;\n",
              "        max-height: 100px;\n",
              "      }\n",
              "    </style>\n",
              "    <pre style=\"white-space: initial; background:\n",
              "         var(--colab-secondary-surface-color); padding: 8px 12px;\n",
              "         border-bottom: 1px solid var(--colab-border-color);\"><b>PIL.Image.Image</b><br/>def __init__() -&gt; None</pre><pre class=\"function-repr-contents function-repr-contents-collapsed\" style=\"\"><a class=\"filepath\" style=\"display:none\" href=\"#\">/usr/local/lib/python3.11/dist-packages/PIL/Image.py</a>This class represents an image object.  To create\n",
              ":py:class:`~PIL.Image.Image` objects, use the appropriate factory\n",
              "functions.  There&#x27;s hardly ever any reason to call the Image constructor\n",
              "directly.\n",
              "\n",
              "* :py:func:`~PIL.Image.open`\n",
              "* :py:func:`~PIL.Image.new`\n",
              "* :py:func:`~PIL.Image.frombytes`</pre>\n",
              "      <script>\n",
              "      if (google.colab.kernel.accessAllowed && google.colab.files && google.colab.files.view) {\n",
              "        for (const element of document.querySelectorAll('.filepath')) {\n",
              "          element.style.display = 'block'\n",
              "          element.onclick = (event) => {\n",
              "            event.preventDefault();\n",
              "            event.stopPropagation();\n",
              "            google.colab.files.view(element.textContent, 527);\n",
              "          };\n",
              "        }\n",
              "      }\n",
              "      for (const element of document.querySelectorAll('.function-repr-contents')) {\n",
              "        element.onclick = (event) => {\n",
              "          event.preventDefault();\n",
              "          event.stopPropagation();\n",
              "          element.classList.toggle('function-repr-contents-collapsed');\n",
              "        };\n",
              "      }\n",
              "      </script>\n",
              "      </div>"
            ]
          },
          "metadata": {},
          "execution_count": 6
        }
      ]
    },
    {
      "cell_type": "markdown",
      "source": [
        "## Tensors\n",
        "tensor is an n-dimensional array representing any number of dimensions. Example Pixels can be represented in 3-dimensional tensor (width, height, color channel). Video games use matrix math to calculate pixels similarly to neural networks. Thats why GPUs effective tensor processing machines"
      ],
      "metadata": {
        "id": "ve7o4PMlFoEi"
      }
    },
    {
      "cell_type": "code",
      "source": [
        "trans = v2.Compose([v2.ToImage(), v2.ToDtype(torch.float32, scale=True)]) # old way is transforms.ToTensor\n",
        "x_0_tensor = trans(x_0)"
      ],
      "metadata": {
        "id": "i9OaD9k4FM1x"
      },
      "execution_count": 7,
      "outputs": []
    },
    {
      "cell_type": "code",
      "source": [
        "x_0_tensor.dtype"
      ],
      "metadata": {
        "colab": {
          "base_uri": "https://localhost:8080/"
        },
        "id": "iEFnBANzGIgs",
        "outputId": "d236bc37-313f-4e41-de95-740dcbffb4f3"
      },
      "execution_count": 8,
      "outputs": [
        {
          "output_type": "execute_result",
          "data": {
            "text/plain": [
              "torch.float32"
            ]
          },
          "metadata": {},
          "execution_count": 8
        }
      ]
    },
    {
      "cell_type": "markdown",
      "source": [
        "Image Range 0 to 255"
      ],
      "metadata": {
        "id": "lpBdbBa3GkKx"
      }
    },
    {
      "cell_type": "code",
      "source": [
        "x_0_tensor.min()"
      ],
      "metadata": {
        "colab": {
          "base_uri": "https://localhost:8080/"
        },
        "id": "TVnh_jfwGblv",
        "outputId": "0f578589-2fd3-469f-b85d-219ce91b04e8"
      },
      "execution_count": 9,
      "outputs": [
        {
          "output_type": "execute_result",
          "data": {
            "text/plain": [
              "tensor(0.)"
            ]
          },
          "metadata": {},
          "execution_count": 9
        }
      ]
    },
    {
      "cell_type": "code",
      "source": [
        "x_0_tensor.max()"
      ],
      "metadata": {
        "colab": {
          "base_uri": "https://localhost:8080/"
        },
        "id": "8LLHr4iQGguK",
        "outputId": "521eaa30-7846-438c-9bd2-8a5836309ba3"
      },
      "execution_count": 10,
      "outputs": [
        {
          "output_type": "execute_result",
          "data": {
            "text/plain": [
              "tensor(1.)"
            ]
          },
          "metadata": {},
          "execution_count": 10
        }
      ]
    },
    {
      "cell_type": "code",
      "source": [
        "x_0_tensor.size() # color channel x height x width"
      ],
      "metadata": {
        "colab": {
          "base_uri": "https://localhost:8080/"
        },
        "id": "K8-F7i4OGibU",
        "outputId": "87e81979-d9f4-416e-8cf0-86dfa3a219ce"
      },
      "execution_count": 11,
      "outputs": [
        {
          "output_type": "execute_result",
          "data": {
            "text/plain": [
              "torch.Size([3, 32, 32])"
            ]
          },
          "metadata": {},
          "execution_count": 11
        }
      ]
    },
    {
      "cell_type": "code",
      "source": [
        "x_0_tensor"
      ],
      "metadata": {
        "colab": {
          "base_uri": "https://localhost:8080/"
        },
        "id": "h6aKHtF0Go66",
        "outputId": "6446322b-c860-4b14-d38d-b3f4b685eaae"
      },
      "execution_count": 12,
      "outputs": [
        {
          "output_type": "execute_result",
          "data": {
            "text/plain": [
              "Image([[[0.2314, 0.1686, 0.1961,  ..., 0.6196, 0.5961, 0.5804],\n",
              "        [0.0627, 0.0000, 0.0706,  ..., 0.4824, 0.4667, 0.4784],\n",
              "        [0.0980, 0.0627, 0.1922,  ..., 0.4627, 0.4706, 0.4275],\n",
              "        ...,\n",
              "        [0.8157, 0.7882, 0.7765,  ..., 0.6275, 0.2196, 0.2078],\n",
              "        [0.7059, 0.6784, 0.7294,  ..., 0.7216, 0.3804, 0.3255],\n",
              "        [0.6941, 0.6588, 0.7020,  ..., 0.8471, 0.5922, 0.4824]],\n",
              "\n",
              "       [[0.2431, 0.1804, 0.1882,  ..., 0.5176, 0.4902, 0.4863],\n",
              "        [0.0784, 0.0000, 0.0314,  ..., 0.3451, 0.3255, 0.3412],\n",
              "        [0.0941, 0.0275, 0.1059,  ..., 0.3294, 0.3294, 0.2863],\n",
              "        ...,\n",
              "        [0.6667, 0.6000, 0.6314,  ..., 0.5216, 0.1216, 0.1333],\n",
              "        [0.5451, 0.4824, 0.5647,  ..., 0.5804, 0.2431, 0.2078],\n",
              "        [0.5647, 0.5059, 0.5569,  ..., 0.7216, 0.4627, 0.3608]],\n",
              "\n",
              "       [[0.2471, 0.1765, 0.1686,  ..., 0.4235, 0.4000, 0.4039],\n",
              "        [0.0784, 0.0000, 0.0000,  ..., 0.2157, 0.1961, 0.2235],\n",
              "        [0.0824, 0.0000, 0.0314,  ..., 0.1961, 0.1961, 0.1647],\n",
              "        ...,\n",
              "        [0.3765, 0.1333, 0.1020,  ..., 0.2745, 0.0275, 0.0784],\n",
              "        [0.3765, 0.1647, 0.1176,  ..., 0.3686, 0.1333, 0.1333],\n",
              "        [0.4549, 0.3686, 0.3412,  ..., 0.5490, 0.3294, 0.2824]]], )"
            ]
          },
          "metadata": {},
          "execution_count": 12
        }
      ]
    },
    {
      "cell_type": "code",
      "source": [
        "x_0_tensor.device"
      ],
      "metadata": {
        "colab": {
          "base_uri": "https://localhost:8080/"
        },
        "id": "fhJoeap4GxlZ",
        "outputId": "651d90e2-c133-4741-a5ee-31164e2f3de2"
      },
      "execution_count": 13,
      "outputs": [
        {
          "output_type": "execute_result",
          "data": {
            "text/plain": [
              "device(type='cpu')"
            ]
          },
          "metadata": {},
          "execution_count": 13
        }
      ]
    },
    {
      "cell_type": "markdown",
      "source": [
        "### Remember to move to GPU"
      ],
      "metadata": {
        "id": "9q8TgE-fG4VR"
      }
    },
    {
      "cell_type": "code",
      "source": [
        "x_0_gpu = x_0_tensor.cuda()\n",
        "x_0_gpu.device"
      ],
      "metadata": {
        "colab": {
          "base_uri": "https://localhost:8080/"
        },
        "id": "QRz094hNG-ks",
        "outputId": "22fba91a-8a29-43db-87f4-2a65ecb698dc"
      },
      "execution_count": 14,
      "outputs": [
        {
          "output_type": "execute_result",
          "data": {
            "text/plain": [
              "device(type='cuda', index=0)"
            ]
          },
          "metadata": {},
          "execution_count": 14
        }
      ]
    },
    {
      "cell_type": "code",
      "source": [
        "# if cuda not recognized do\n",
        "x_0_gpu = x_0_tensor.to(device)\n",
        "x_0_gpu.device"
      ],
      "metadata": {
        "colab": {
          "base_uri": "https://localhost:8080/"
        },
        "id": "WmHB0na1HEgO",
        "outputId": "1035ac2f-be63-4699-fa5d-076181b1b318"
      },
      "execution_count": 15,
      "outputs": [
        {
          "output_type": "execute_result",
          "data": {
            "text/plain": [
              "device(type='cuda', index=0)"
            ]
          },
          "metadata": {},
          "execution_count": 15
        }
      ]
    },
    {
      "cell_type": "code",
      "source": [
        "image = F.to_pil_image(x_0_tensor)\n",
        "plt.imshow(image)"
      ],
      "metadata": {
        "colab": {
          "base_uri": "https://localhost:8080/",
          "height": 447
        },
        "id": "NVVdw3-SHTiK",
        "outputId": "935f096b-a552-4b1a-9a62-8944609cc547"
      },
      "execution_count": 16,
      "outputs": [
        {
          "output_type": "execute_result",
          "data": {
            "text/plain": [
              "<matplotlib.image.AxesImage at 0x7fb7a84f6790>"
            ]
          },
          "metadata": {},
          "execution_count": 16
        },
        {
          "output_type": "display_data",
          "data": {
            "text/plain": [
              "<Figure size 640x480 with 1 Axes>"
            ],
            "image/png": "[encoded data removed]"
          },
          "metadata": {}
        }
      ]
    },
    {
      "cell_type": "markdown",
      "source": [
        "## Prepare to Train Data"
      ],
      "metadata": {
        "id": "T1HDlyM-H29w"
      }
    },
    {
      "cell_type": "code",
      "source": [
        "trans = v2.Compose([v2.ToImage(),  v2.ToDtype(torch.float32, scale=True)])\n",
        "\n",
        "# apply list of transforms to dataset by setting transform attr\n",
        "train_set.transform = trans\n",
        "valid_set.transform = trans"
      ],
      "metadata": {
        "id": "R-9WBZ2LHc8k"
      },
      "execution_count": 17,
      "outputs": []
    },
    {
      "cell_type": "markdown",
      "source": [
        "## Data Loaders\n",
        "\n",
        "We can shuffle up our dataset instead of showing the model the entire data set. Smaller batches are more efficient for model training. You don't need to shuffle for validation since the model is not learning.\n",
        "\n"
      ],
      "metadata": {
        "id": "dNm1uoJQIMIX"
      }
    },
    {
      "cell_type": "code",
      "source": [
        "batch_size = 32\n",
        "train_loader = DataLoader(dataset=train_set, batch_size=batch_size, shuffle=True)\n",
        "valid_loader = DataLoader(dataset=valid_set, batch_size=batch_size)"
      ],
      "metadata": {
        "id": "WlxHV76wINpw"
      },
      "execution_count": 18,
      "outputs": []
    },
    {
      "cell_type": "markdown",
      "source": [
        "## Creating the Model\n"
      ],
      "metadata": {
        "id": "DMGGr2P0JGlC"
      }
    },
    {
      "cell_type": "code",
      "source": [
        "layers = []"
      ],
      "metadata": {
        "id": "DeViOEB1JH-e"
      },
      "execution_count": 19,
      "outputs": []
    },
    {
      "cell_type": "markdown",
      "source": [
        "## Flatten the Model\n",
        "\n",
        "Since we are dealing with images with 3-dimensions, we should flatten the model combine all these images into 1 dimension. 3x32x32 => [3072]"
      ],
      "metadata": {
        "id": "qQU7tFu_JQTz"
      }
    },
    {
      "cell_type": "code",
      "source": [
        "layers = [\n",
        "    nn.Flatten()\n",
        "]\n",
        "\n",
        "layers\n"
      ],
      "metadata": {
        "colab": {
          "base_uri": "https://localhost:8080/"
        },
        "id": "5p1wBYO2JolP",
        "outputId": "fb96b6b2-6bec-4dd1-f674-42aec2991dcc"
      },
      "execution_count": 20,
      "outputs": [
        {
          "output_type": "execute_result",
          "data": {
            "text/plain": [
              "[Flatten(start_dim=1, end_dim=-1)]"
            ]
          },
          "metadata": {},
          "execution_count": 20
        }
      ]
    },
    {
      "cell_type": "markdown",
      "source": [
        "## Input Layer\n",
        "\n",
        "We can use a Linear layer. This will be densely connected meaning each neuron's weights will affect every neuron in the next layer"
      ],
      "metadata": {
        "id": "pV-Wg99tJ0ZX"
      }
    },
    {
      "cell_type": "code",
      "source": [
        "input_size = 3 * 32 * 32 # 3 channels since CIFAR10 uses RGB, use 1 channel if greyscale like in MNIST"
      ],
      "metadata": {
        "id": "7-uPG0MpJyG0"
      },
      "execution_count": 21,
      "outputs": []
    },
    {
      "cell_type": "markdown",
      "source": [
        "You can choose different amount of neurons and different activation functions"
      ],
      "metadata": {
        "id": "U1jb4_RJLbwi"
      }
    },
    {
      "cell_type": "code",
      "source": [
        "layers = [\n",
        "    nn.Flatten(),\n",
        "    nn.Linear(input_size, 512), # num neurons\n",
        "    nn.ReLU()\n",
        "]"
      ],
      "metadata": {
        "id": "d3yeaVtsLAu2"
      },
      "execution_count": 22,
      "outputs": []
    },
    {
      "cell_type": "markdown",
      "source": [
        "## Hidden Layer\n",
        "\n",
        "We can add more layers. It will need to know the input_size. Since the previous layer computes one number, the num of inputs into the hidden layer is the same as number of neurons in previous layer"
      ],
      "metadata": {
        "id": "a9PPyMdQM0E_"
      }
    },
    {
      "cell_type": "code",
      "source": [
        "layers = [\n",
        "    nn.Flatten(),\n",
        "    nn.Linear(input_size, 512), # num neurons\n",
        "    nn.ReLU(),\n",
        "    nn.Linear(512, 512),\n",
        "    nn.ReLU()\n",
        "]"
      ],
      "metadata": {
        "id": "eUf_91i3Lns7"
      },
      "execution_count": 23,
      "outputs": []
    },
    {
      "cell_type": "code",
      "source": [
        "num_of_classes = 10\n",
        "\n",
        "layers = [\n",
        "    nn.Flatten(),\n",
        "    nn.Linear(input_size, 1024), # num neurons\n",
        "    nn.ReLU(), # activation for input\n",
        "    nn.Linear(1024, 512), # hidden layer, can reduce output neurons for abstract features\n",
        "    nn.ReLU(), # activation for hidden\n",
        "    nn.Linear(512, num_of_classes) # output layer\n",
        "]\n",
        "\n",
        "layers"
      ],
      "metadata": {
        "colab": {
          "base_uri": "https://localhost:8080/"
        },
        "id": "fUJpx73sNHkR",
        "outputId": "83eef8a3-2798-421f-f271-c6acb5bf61d0"
      },
      "execution_count": 24,
      "outputs": [
        {
          "output_type": "execute_result",
          "data": {
            "text/plain": [
              "[Flatten(start_dim=1, end_dim=-1),\n",
              " Linear(in_features=3072, out_features=1024, bias=True),\n",
              " ReLU(),\n",
              " Linear(in_features=1024, out_features=512, bias=True),\n",
              " ReLU(),\n",
              " Linear(in_features=512, out_features=10, bias=True)]"
            ]
          },
          "metadata": {},
          "execution_count": 24
        }
      ]
    },
    {
      "cell_type": "code",
      "source": [
        "model = nn.Sequential(*layers) # create model. using * operator will unpack a list"
      ],
      "metadata": {
        "id": "JLhcNt8bNcuK"
      },
      "execution_count": 25,
      "outputs": []
    },
    {
      "cell_type": "code",
      "source": [
        "model.to(device)"
      ],
      "metadata": {
        "colab": {
          "base_uri": "https://localhost:8080/"
        },
        "id": "iKEgXkjQNhMc",
        "outputId": "ed2e2a43-9061-4bdc-bf33-d00cbebdbf94"
      },
      "execution_count": 26,
      "outputs": [
        {
          "output_type": "execute_result",
          "data": {
            "text/plain": [
              "Sequential(\n",
              "  (0): Flatten(start_dim=1, end_dim=-1)\n",
              "  (1): Linear(in_features=3072, out_features=1024, bias=True)\n",
              "  (2): ReLU()\n",
              "  (3): Linear(in_features=1024, out_features=512, bias=True)\n",
              "  (4): ReLU()\n",
              "  (5): Linear(in_features=512, out_features=10, bias=True)\n",
              ")"
            ]
          },
          "metadata": {},
          "execution_count": 26
        }
      ]
    },
    {
      "cell_type": "code",
      "source": [
        "next(model.parameters()).device"
      ],
      "metadata": {
        "colab": {
          "base_uri": "https://localhost:8080/"
        },
        "id": "fzK33YWaNiyM",
        "outputId": "e5158938-a1fe-414f-998e-be519b1e3294"
      },
      "execution_count": 27,
      "outputs": [
        {
          "output_type": "execute_result",
          "data": {
            "text/plain": [
              "device(type='cuda', index=0)"
            ]
          },
          "metadata": {},
          "execution_count": 27
        }
      ]
    },
    {
      "cell_type": "code",
      "source": [
        "model = torch.compile(model) # faster performance!"
      ],
      "metadata": {
        "id": "pnhHcGw8NmBv"
      },
      "execution_count": 28,
      "outputs": []
    },
    {
      "cell_type": "markdown",
      "source": [
        "## Training the Model\n",
        "\n",
        "often called fitting a model to data. We need to provide a way to grade the model using a loss function."
      ],
      "metadata": {
        "id": "XGVPKKzzNweq"
      }
    },
    {
      "cell_type": "code",
      "source": [
        "loss_function = nn.CrossEntropyLoss()\n",
        "\n",
        "optimizer = Adam(model.parameters())"
      ],
      "metadata": {
        "id": "3LhUtW0fNu_V"
      },
      "execution_count": 29,
      "outputs": []
    },
    {
      "cell_type": "code",
      "source": [
        "train_N = len(train_loader.dataset)\n",
        "valid_N = len(valid_loader.dataset)\n",
        "\n"
      ],
      "metadata": {
        "id": "6-MIxnhtOBRX"
      },
      "execution_count": 30,
      "outputs": []
    },
    {
      "cell_type": "code",
      "source": [
        "def get_batch_accuracy(output, y, N):\n",
        "    pred = output.argmax(dim=1, keepdim=True)\n",
        "    correct = pred.eq(y.view_as(pred)).sum().item()\n",
        "    return correct / N"
      ],
      "metadata": {
        "id": "OIggeXQkOKF5"
      },
      "execution_count": 31,
      "outputs": []
    },
    {
      "cell_type": "code",
      "source": [
        "# train function\n",
        "\n",
        "def train():\n",
        "  loss = 0\n",
        "  accuracy = 0\n",
        "\n",
        "  model.train() # set model to training mode\n",
        "  for x, y in train_loader:\n",
        "    x, y = x.to(device), y.to(device)\n",
        "    output = model(x)\n",
        "    optimizer.zero_grad()\n",
        "    batch_loss = loss_function(output, y)\n",
        "    batch_loss.backward()\n",
        "    optimizer.step()\n",
        "\n",
        "    loss += batch_loss.item()\n",
        "    accuracy += get_batch_accuracy(output,y, train_N)\n",
        "\n",
        "  print('Train - Loss: {:.4f} Accuracy: {:.4f}'.format(loss, accuracy))\n"
      ],
      "metadata": {
        "id": "3yTB62hDOLgb"
      },
      "execution_count": 32,
      "outputs": []
    },
    {
      "cell_type": "code",
      "source": [
        "def validate():\n",
        "    loss = 0\n",
        "    accuracy = 0\n",
        "\n",
        "    model.eval()\n",
        "    with torch.no_grad():\n",
        "        for x, y in valid_loader:\n",
        "            x, y = x.to(device), y.to(device)\n",
        "            output = model(x)\n",
        "            # no learning step\n",
        "            loss += loss_function(output, y).item()\n",
        "            accuracy += get_batch_accuracy(output, y, valid_N)\n",
        "    print('Valid - Loss: {:.4f} Accuracy: {:.4f}'.format(loss, accuracy))"
      ],
      "metadata": {
        "id": "pzJGCF7_OqqJ"
      },
      "execution_count": 33,
      "outputs": []
    },
    {
      "cell_type": "markdown",
      "source": [
        "# Training Loop\n",
        "\n",
        "Epoch is one complete pass of the entire dataset."
      ],
      "metadata": {
        "id": "FpLl_vu_OxZL"
      }
    },
    {
      "cell_type": "code",
      "source": [
        "epochs = 10\n",
        "\n",
        "for epoch in range(epochs):\n",
        "  print('Epoch: {}'.format(epoch))\n",
        "  train()\n",
        "  validate()\n",
        ""
      ],
      "metadata": {
        "colab": {
          "base_uri": "https://localhost:8080/"
        },
        "id": "JYpi-VoMOtPb",
        "outputId": "e3fce932-6065-406c-a405-896e5c86e06b"
      },
      "execution_count": 34,
      "outputs": [
        {
          "output_type": "stream",
          "name": "stdout",
          "text": [
            "Epoch: 0\n",
            "Train - Loss: 2876.4725 Accuracy: 0.3316\n",
            "Valid - Loss: 536.8578 Accuracy: 0.3832\n",
            "Epoch: 1\n",
            "Train - Loss: 2607.9618 Accuracy: 0.3999\n",
            "Valid - Loss: 505.1417 Accuracy: 0.4293\n",
            "Epoch: 2\n",
            "Train - Loss: 2482.1719 Accuracy: 0.4297\n",
            "Valid - Loss: 479.5519 Accuracy: 0.4532\n",
            "Epoch: 3\n",
            "Train - Loss: 2389.1781 Accuracy: 0.4517\n",
            "Valid - Loss: 483.8424 Accuracy: 0.4522\n",
            "Epoch: 4\n",
            "Train - Loss: 2320.3579 Accuracy: 0.4672\n",
            "Valid - Loss: 476.4684 Accuracy: 0.4647\n",
            "Epoch: 5\n",
            "Train - Loss: 2272.1966 Accuracy: 0.4788\n",
            "Valid - Loss: 470.7712 Accuracy: 0.4602\n",
            "Epoch: 6\n",
            "Train - Loss: 2228.7790 Accuracy: 0.4864\n",
            "Valid - Loss: 459.6576 Accuracy: 0.4838\n",
            "Epoch: 7\n",
            "Train - Loss: 2195.5978 Accuracy: 0.4935\n",
            "Valid - Loss: 459.6126 Accuracy: 0.4856\n",
            "Epoch: 8\n",
            "Train - Loss: 2171.4922 Accuracy: 0.5025\n",
            "Valid - Loss: 454.0336 Accuracy: 0.4833\n",
            "Epoch: 9\n",
            "Train - Loss: 2143.1516 Accuracy: 0.5068\n",
            "Valid - Loss: 468.7966 Accuracy: 0.4724\n"
          ]
        }
      ]
    },
    {
      "cell_type": "code",
      "source": [
        "x_0_gpu_batch = x_0_gpu.unsqueeze(0) # used to add a batch dimension [1, 3, 32, 32]\n",
        "prediction = model(x_0_gpu_batch)\n",
        "prediction # should see 10 numbers"
      ],
      "metadata": {
        "colab": {
          "base_uri": "https://localhost:8080/"
        },
        "id": "0eWxOj88O98G",
        "outputId": "9e4f257a-7dce-43b1-a009-09a2aa964518"
      },
      "execution_count": 35,
      "outputs": [
        {
          "output_type": "execute_result",
          "data": {
            "text/plain": [
              "tensor([[-1.6290, -1.3535,  0.2477,  0.5414, -0.6502, -0.1236,  0.8479, -0.9263,\n",
              "         -2.5341, -2.1415]], device='cuda:0',\n",
              "       grad_fn=<CompiledFunctionBackward>)"
            ]
          },
          "metadata": {},
          "execution_count": 35
        }
      ]
    },
    {
      "cell_type": "code",
      "source": [
        "prediction.argmax(dim=1, keepdim=True)"
      ],
      "metadata": {
        "colab": {
          "base_uri": "https://localhost:8080/"
        },
        "id": "vbhXICnRUcag",
        "outputId": "5fa077b5-a0a9-46dc-8b23-e8bb94973972"
      },
      "execution_count": 36,
      "outputs": [
        {
          "output_type": "execute_result",
          "data": {
            "text/plain": [
              "tensor([[6]], device='cuda:0')"
            ]
          },
          "metadata": {},
          "execution_count": 36
        }
      ]
    },
    {
      "cell_type": "code",
      "source": [
        "y_0\n"
      ],
      "metadata": {
        "colab": {
          "base_uri": "https://localhost:8080/"
        },
        "id": "QV5-1H3_Uxn_",
        "outputId": "a2f2dcc9-3075-47d9-f82d-eccbceb919ec"
      },
      "execution_count": 37,
      "outputs": [
        {
          "output_type": "execute_result",
          "data": {
            "text/plain": [
              "6"
            ]
          },
          "metadata": {},
          "execution_count": 37
        }
      ]
    },
    {
      "cell_type": "markdown",
      "source": [
        "It guessed 6 correctly!"
      ],
      "metadata": {
        "id": "uTnSgL_zZ5A-"
      }
    },
    {
      "cell_type": "markdown",
      "source": [
        "For CIFAR10, our Fully connected (FC) model may be at its limit. Next step would be to create a convolutional neural network for this!"
      ],
      "metadata": {
        "id": "ZOzZHCKuZ9lk"
      }
    }
  ]
}